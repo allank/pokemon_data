{
 "cells": [
  {
   "cell_type": "code",
   "execution_count": 1,
   "metadata": {},
   "outputs": [],
   "source": [
    "import pandas as pd\n",
    "import numpy as np\n",
    "import json\n",
    "import math\n",
    "\n",
    "import base64\n",
    "from io import BytesIO\n",
    "from PIL import Image\n",
    "\n",
    "from jinja2 import Environment, Template, FileSystemLoader"
   ]
  },
  {
   "cell_type": "code",
   "execution_count": 8,
   "metadata": {},
   "outputs": [],
   "source": [
    "env = Environment()\n",
    "env.filters['jsonify'] = json.dumps"
   ]
  },
  {
   "cell_type": "code",
   "execution_count": 2,
   "metadata": {},
   "outputs": [],
   "source": [
    "df_numeric = pd.read_pickle('data/dataframes/pokemon_numeric.pickle')\n",
    "df_names = pd.read_pickle('data/dataframes/pokemon_names.pickle')\n",
    "df_sprites = pd.read_pickle('data/dataframes/pokemon_sprites.pickle.bz2', compression='bz2')\n",
    "df_reduced = pd.read_pickle('data/dataframes/pokemon_pca_tsne_umap.pickle')"
   ]
  },
  {
   "cell_type": "code",
   "execution_count": 4,
   "metadata": {},
   "outputs": [],
   "source": [
    "df_data = df_numeric.merge(df_names, left_index=True, right_index=True).merge(df_sprites, left_on='pokedex_number', right_on='pokedex_number').merge(df_reduced, left_index=True, right_index=True)"
   ]
  },
  {
   "cell_type": "code",
   "execution_count": 5,
   "metadata": {},
   "outputs": [],
   "source": [
    "limits = {}\n",
    "limits['xmin'], limits['xmax'] = (math.floor(df_data['tsne-one'].min()), math.ceil(df_data['tsne-one'].max()))\n",
    "limits['ymin'], limits['ymax'] = (math.floor(df_data['tsne-one'].min()), math.ceil(df_data['tsne-one'].max()))"
   ]
  },
  {
   "cell_type": "code",
   "execution_count": 6,
   "metadata": {},
   "outputs": [],
   "source": [
    "colors = ['#a6cee3','#1f78b4','#b2df8a','#33a02c','#fb9a99','#e31a1c','#fdbf6f']\n",
    "generations = []\n",
    "for gen in df_data['generation'].unique():\n",
    "    color = colors[gen - 1]\n",
    "    name = 'Generation {}'.format(gen)\n",
    "    series = []\n",
    "    for index, row in df_data[df_data['generation'] == gen].iterrows():\n",
    "        pil_img = Image.fromarray(row['image_data'])\n",
    "        pil_img.thumbnail(size=(50,50))\n",
    "        buff = BytesIO()\n",
    "        pil_img.save(buff, format=\"PNG\")\n",
    "        image_string = base64.b64encode(buff.getvalue()).decode(\"utf-8\")\n",
    "        series.append({\n",
    "            'x': row['tsne-one'],\n",
    "            'y': row['tsne-two'],\n",
    "            'name': row['name'],\n",
    "            'image_data': image_string\n",
    "        })\n",
    "    generations.append({\n",
    "        'name': name,\n",
    "        'color': color,\n",
    "        'data': series\n",
    "    })"
   ]
  },
  {
   "cell_type": "code",
   "execution_count": 10,
   "metadata": {},
   "outputs": [],
   "source": [
    "with open('static/highcharts_scatter_2d_template.html') as file_:\n",
    "    template = file_.read()\n",
    "    with open('static/highcharts_scatter_2d_gen.html', 'w') as outfile_:\n",
    "        outfile_.write(env.from_string(template).render(series=generations, limits=limits))"
   ]
  },
  {
   "cell_type": "code",
   "execution_count": null,
   "metadata": {},
   "outputs": [],
   "source": []
  }
 ],
 "metadata": {
  "kernelspec": {
   "display_name": "Python 3",
   "language": "python",
   "name": "python3"
  },
  "language_info": {
   "codemirror_mode": {
    "name": "ipython",
    "version": 3
   },
   "file_extension": ".py",
   "mimetype": "text/x-python",
   "name": "python",
   "nbconvert_exporter": "python",
   "pygments_lexer": "ipython3",
   "version": "3.6.5"
  }
 },
 "nbformat": 4,
 "nbformat_minor": 2
}
